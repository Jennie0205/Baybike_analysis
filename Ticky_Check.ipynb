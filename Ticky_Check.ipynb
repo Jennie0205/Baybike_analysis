{
  "nbformat": 4,
  "nbformat_minor": 0,
  "metadata": {
    "colab": {
      "name": "Ticky_Check",
      "provenance": [],
      "authorship_tag": "ABX9TyOGKD+vRW5g7cXXlvFIFDeG",
      "include_colab_link": true
    },
    "kernelspec": {
      "name": "python3",
      "display_name": "Python 3"
    },
    "language_info": {
      "name": "python"
    }
  },
  "cells": [
    {
      "cell_type": "markdown",
      "metadata": {
        "id": "view-in-github",
        "colab_type": "text"
      },
      "source": [
        "<a href=\"https://colab.research.google.com/github/Jennie0205/Baybike_analysis/blob/main/Ticky_Check.ipynb\" target=\"_parent\"><img src=\"https://colab.research.google.com/assets/colab-badge.svg\" alt=\"Open In Colab\"/></a>"
      ]
    },
    {
      "cell_type": "code",
      "execution_count": 41,
      "metadata": {
        "colab": {
          "base_uri": "https://localhost:8080/",
          "resources": {
            "http://localhost:8080/nbextensions/google.colab/files.js": {
              "data": "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",
              "ok": true,
              "headers": [
                [
                  "content-type",
                  "application/javascript"
                ]
              ],
              "status": 200,
              "status_text": ""
            }
          },
          "height": 73
        },
        "id": "0L340mQbuHiA",
        "outputId": "826fe55b-6577-48d5-808b-bcec2d86ed34"
      },
      "outputs": [
        {
          "output_type": "display_data",
          "data": {
            "text/plain": [
              "<IPython.core.display.HTML object>"
            ],
            "text/html": [
              "\n",
              "     <input type=\"file\" id=\"files-3c799ace-5ede-4004-9037-89c3830cb298\" name=\"files[]\" multiple disabled\n",
              "        style=\"border:none\" />\n",
              "     <output id=\"result-3c799ace-5ede-4004-9037-89c3830cb298\">\n",
              "      Upload widget is only available when the cell has been executed in the\n",
              "      current browser session. Please rerun this cell to enable.\n",
              "      </output>\n",
              "      <script src=\"/nbextensions/google.colab/files.js\"></script> "
            ]
          },
          "metadata": {}
        },
        {
          "output_type": "stream",
          "name": "stdout",
          "text": [
            "Saving syslog.log to syslog.log\n"
          ]
        }
      ],
      "source": [
        "from google.colab import files\n",
        "uploaded = files.upload()\n",
        "\n"
      ]
    },
    {
      "cell_type": "markdown",
      "source": [
        "# New Section"
      ],
      "metadata": {
        "id": "WxGRW_mcO5UW"
      }
    },
    {
      "cell_type": "code",
      "source": [
        "file_name = \"syslog.log\"\n",
        "file_data = uploaded[file_name].decode(\"utf-8\").split(\"\\n\")"
      ],
      "metadata": {
        "id": "5Q0FxZA9f4pJ"
      },
      "execution_count": 252,
      "outputs": []
    },
    {
      "cell_type": "code",
      "source": [
        "import sys\n",
        "import re\n",
        "import operator\n",
        "import csv\n",
        "\n",
        "per_users = {}\n",
        "per_users_INFO= {}\n",
        "per_users_ERROR= {}\n",
        "errors = {}\n",
        "data_list = []"
      ],
      "metadata": {
        "id": "LFUsWle8X75l"
      },
      "execution_count": 253,
      "outputs": []
    },
    {
      "cell_type": "code",
      "source": [
        "with open('syslog.log') as file:\n",
        "  for line in file.readlines():\n",
        "    match = re.search(r\"ticky: ([\\w+]*):? ([\\w' ]*)[\\[[#0-9]*\\]?]? ?\\((.*)\\)$\", line)\n",
        "    code, error_msg, user = match.group(1), match.group(2), match.group(3)\n",
        "    data_list.append([code, error_msg,user]) \n",
        "  print(data_list)"
      ],
      "metadata": {
        "colab": {
          "base_uri": "https://localhost:8080/"
        },
        "id": "CmyWODawE7KP",
        "outputId": "192efa88-033d-41d3-fdc5-4afd2afbecdb"
      },
      "execution_count": 254,
      "outputs": [
        {
          "output_type": "stream",
          "name": "stdout",
          "text": [
            "[['INFO', 'Created ticket ', 'mdouglas'], ['INFO', 'Closed ticket ', 'noel'], ['ERROR', 'The ticket was modified while updating ', 'breee'], ['ERROR', 'Permission denied while closing ticket ', 'ac'], ['INFO', 'Commented on ticket ', 'blossom'], ['INFO', 'Commented on ticket ', 'rr.robinson'], ['ERROR', 'Tried to add information to closed ticket ', 'mcintosh'], ['ERROR', 'Tried to add information to closed ticket ', 'jackowens'], ['ERROR', 'Tried to add information to closed ticket ', 'mdouglas'], ['ERROR', 'Timeout while retrieving information ', 'oren'], ['ERROR', \"Ticket doesn't exist \", 'xlg'], ['ERROR', 'Timeout while retrieving information ', 'ahmed.miller'], ['ERROR', \"Ticket doesn't exist \", 'blossom'], ['ERROR', 'The ticket was modified while updating ', 'bpacheco'], ['ERROR', \"Ticket doesn't exist \", 'enim.non'], ['ERROR', 'Permission denied while closing ticket ', 'rr.robinson'], ['ERROR', 'Tried to add information to closed ticket ', 'oren'], ['ERROR', 'Timeout while retrieving information ', 'mcintosh'], ['ERROR', 'Timeout while retrieving information ', 'ahmed.miller'], ['ERROR', 'Connection to DB failed ', 'jackowens'], ['ERROR', 'Permission denied while closing ticket ', 'flavia'], ['ERROR', 'Tried to add information to closed ticket ', 'oren'], ['ERROR', 'Tried to add information to closed ticket ', 'sri'], ['INFO', 'Commented on ticket ', 'breee'], ['ERROR', 'Connection to DB failed ', 'nonummy'], ['INFO', 'Created ticket ', 'noel'], ['ERROR', 'The ticket was modified while updating ', 'flavia'], ['INFO', 'Commented on ticket ', 'nonummy'], ['ERROR', 'Connection to DB failed ', 'oren'], ['ERROR', 'Timeout while retrieving information ', 'xlg'], ['INFO', 'Created ticket ', 'ahmed.miller'], ['ERROR', 'Timeout while retrieving information ', 'flavia'], ['ERROR', 'Connection to DB failed ', 'jackowens'], ['INFO', 'Commented on ticket ', 'oren'], ['ERROR', \"Ticket doesn't exist \", 'flavia'], ['ERROR', 'Tried to add information to closed ticket ', 'jackowens'], ['INFO', 'Closed ticket ', 'britanni'], ['INFO', 'Created ticket ', 'mcintosh'], ['ERROR', 'Timeout while retrieving information ', 'montanap'], ['ERROR', 'Permission denied while closing ticket ', 'britanni'], ['ERROR', 'Permission denied while closing ticket ', 'montanap'], ['ERROR', 'Tried to add information to closed ticket ', 'noel'], ['ERROR', 'Timeout while retrieving information ', 'oren'], ['INFO', 'Commented on ticket ', 'mdouglas'], ['INFO', 'Closed ticket ', 'jackowens'], ['ERROR', 'Connection to DB failed ', 'ac'], ['ERROR', 'Timeout while retrieving information ', 'blossom'], ['ERROR', 'Permission denied while closing ticket ', 'montanap'], ['ERROR', 'Tried to add information to closed ticket ', 'breee'], ['ERROR', 'Connection to DB failed ', 'sri'], ['ERROR', 'Timeout while retrieving information ', 'montanap'], ['ERROR', 'Permission denied while closing ticket ', 'ahmed.miller'], ['ERROR', 'Connection to DB failed ', 'mai.hendrix'], ['INFO', 'Commented on ticket ', 'ac'], ['ERROR', 'Tried to add information to closed ticket ', 'ahmed.miller'], ['INFO', 'Created ticket ', 'kirknixon'], ['ERROR', 'Permission denied while closing ticket ', 'mai.hendrix'], ['ERROR', 'Connection to DB failed ', 'kirknixon'], ['ERROR', \"Ticket doesn't exist \", 'flavia'], ['INFO', 'Created ticket ', 'sri'], ['ERROR', 'Permission denied while closing ticket ', 'blossom'], ['ERROR', 'Tried to add information to closed ticket ', 'nonummy'], ['INFO', 'Closed ticket ', 'rr.robinson'], ['ERROR', 'The ticket was modified while updating ', 'breee'], ['INFO', 'Commented on ticket ', 'noel'], ['ERROR', 'The ticket was modified while updating ', 'enim.non'], ['ERROR', 'Timeout while retrieving information ', 'xlg'], ['INFO', 'Closed ticket ', 'noel'], ['INFO', 'Commented on ticket ', 'noel'], ['ERROR', 'Tried to add information to closed ticket ', 'noel'], ['ERROR', \"Ticket doesn't exist \", 'blossom'], ['ERROR', 'Permission denied while closing ticket ', 'enim.non'], ['INFO', 'Closed ticket ', 'enim.non'], ['INFO', 'Commented on ticket ', 'noel'], ['ERROR', 'The ticket was modified while updating ', 'mdouglas'], ['INFO', 'Created ticket ', 'ac'], ['ERROR', 'Timeout while retrieving information ', 'oren'], ['INFO', 'Commented on ticket ', 'mcintosh'], ['ERROR', 'Connection to DB failed ', 'bpacheco'], ['ERROR', 'The ticket was modified while updating ', 'mcintosh'], ['ERROR', 'Connection to DB failed ', 'oren'], ['INFO', 'Closed ticket ', 'mcintosh'], ['ERROR', 'The ticket was modified while updating ', 'noel'], ['ERROR', \"Ticket doesn't exist \", 'nonummy'], ['ERROR', 'Timeout while retrieving information ', 'blossom'], ['ERROR', 'Timeout while retrieving information ', 'mai.hendrix'], ['INFO', 'Created ticket ', 'enim.non'], ['ERROR', 'Timeout while retrieving information ', 'xlg'], ['INFO', 'Commented on ticket ', 'ahmed.miller'], ['ERROR', 'Connection to DB failed ', 'breee'], ['INFO', 'Created ticket ', 'nonummy'], ['ERROR', 'Connection to DB failed ', 'mdouglas'], ['INFO', 'Closed ticket ', 'oren'], ['INFO', 'Commented on ticket ', 'sri'], ['ERROR', 'Connection to DB failed ', 'breee'], ['INFO', 'Closed ticket ', 'kirknixon'], ['ERROR', 'The ticket was modified while updating ', 'blossom'], ['INFO', 'Created ticket ', 'jackowens'], ['INFO', 'Closed ticket ', 'blossom'], ['INFO', 'Created ticket ', 'mcintosh']]\n"
          ]
        }
      ]
    },
    {
      "cell_type": "code",
      "source": [
        "for data in data_list:\n",
        "  if data[2] not in per_users_INFO.keys():\n",
        "    per_users_INFO[data[2]] = 0\n",
        "  elif data[2] not in per_users_ERROR.keys():\n",
        "    per_users_ERROR[data[2]] = 0\n",
        "\n",
        "for data in data_list:\n",
        "  if data[0] ==\"INFO\":\n",
        "    per_users_INFO[data[2]] += 1\n",
        "  elif data[0] ==\"ERROR\":\n",
        "    per_users_ERROR[data[2]] += 1\n",
        "\n",
        "per_users_ERROR_sorted = (sorted(per_users_ERROR.items()))\n",
        "per_users_INFO_sorted = (sorted(per_users_INFO.items()))\n",
        "\n",
        "print(per_users_ERROR_sorted)\n"
      ],
      "metadata": {
        "colab": {
          "base_uri": "https://localhost:8080/"
        },
        "id": "sIZoTDqHFSyg",
        "outputId": "afd6f2d1-2d4a-47f8-9032-46591d600557"
      },
      "execution_count": 255,
      "outputs": [
        {
          "output_type": "stream",
          "name": "stdout",
          "text": [
            "[('ac', 2), ('ahmed.miller', 4), ('blossom', 6), ('bpacheco', 2), ('breee', 5), ('britanni', 1), ('enim.non', 3), ('flavia', 5), ('jackowens', 4), ('kirknixon', 1), ('mai.hendrix', 3), ('mcintosh', 3), ('mdouglas', 3), ('montanap', 4), ('noel', 3), ('nonummy', 3), ('oren', 7), ('rr.robinson', 1), ('sri', 2), ('xlg', 4)]\n"
          ]
        }
      ]
    },
    {
      "cell_type": "code",
      "source": [
        "user_sorted = []\n",
        "\n",
        "for i in range(len(per_users_INFO_sorted)):\n",
        "  user_sorted.append((per_users_INFO_sorted[i][0], per_users_INFO_sorted[i][1], per_users_ERROR_sorted[i][1]))\n",
        "\n",
        "user_sorted.insert(0, ('Username', 'INFO', 'ERROR'))\n",
        "print(user_sorted)"
      ],
      "metadata": {
        "colab": {
          "base_uri": "https://localhost:8080/"
        },
        "id": "ZO8KduQCqLmt",
        "outputId": "937df53f-d2a6-4761-a502-0a38ee93828a"
      },
      "execution_count": 260,
      "outputs": [
        {
          "output_type": "stream",
          "name": "stdout",
          "text": [
            "[('Username', 'INFO', 'ERROR'), ('ac', 2, 2), ('ahmed.miller', 2, 4), ('blossom', 2, 6), ('bpacheco', 0, 2), ('breee', 1, 5), ('britanni', 1, 1), ('enim.non', 2, 3), ('flavia', 0, 5), ('jackowens', 2, 4), ('kirknixon', 2, 1), ('mai.hendrix', 0, 3), ('mcintosh', 4, 3), ('mdouglas', 2, 3), ('montanap', 0, 4), ('noel', 6, 3), ('nonummy', 2, 3), ('oren', 2, 7), ('rr.robinson', 2, 1), ('sri', 2, 2), ('xlg', 0, 4)]\n"
          ]
        }
      ]
    },
    {
      "cell_type": "code",
      "source": [
        "with open('user_statistics.csv', 'w', newline='') as user_csv:\n",
        "    for name, info, error in user_sorted:\n",
        "        user_csv.write(name + ',' +\n",
        "                       str(info) + ',' + str(error)+'\\n')"
      ],
      "metadata": {
        "id": "tRegha-FscgI"
      },
      "execution_count": 263,
      "outputs": []
    },
    {
      "cell_type": "code",
      "source": [
        "user_file_name = \"user_statistics.csv\"\n",
        "user_file_data = uploaded[file_name].decode(\"utf-8\").split(\",\")\n",
        "with open(user_file_name) as file:\n",
        "  for line in file.readlines():\n",
        "    print(line)"
      ],
      "metadata": {
        "id": "NXOEgLA8s8db"
      },
      "execution_count": null,
      "outputs": []
    },
    {
      "cell_type": "code",
      "source": [
        "for data in data_list:\n",
        "  if data[0] ==\"ERROR\":\n",
        "    if data[1] not in errors.keys():\n",
        "      errors[data[1]] = 1\n",
        "    else : \n",
        "      errors[data[1]] += 1\n",
        "error_sorted = []\n",
        "for w in sorted(errors, key=errors.get, reverse=True):\n",
        "    error_sorted.append((w, errors[w]))\n",
        "\n",
        "error_sorted.insert(0, ('Error', 'Count'))\n",
        "print(error_sorted)"
      ],
      "metadata": {
        "colab": {
          "base_uri": "https://localhost:8080/"
        },
        "id": "iD0BO7YARwBU",
        "outputId": "2dd91181-9aae-4ade-99d8-7945b0cd1188"
      },
      "execution_count": 236,
      "outputs": [
        {
          "output_type": "stream",
          "name": "stdout",
          "text": [
            "[('Error', 'Count'), ('Timeout while retrieving information ', 150), ('Connection to DB failed ', 130), ('Tried to add information to closed ticket ', 120), ('Permission denied while closing ticket ', 100), ('The ticket was modified while updating ', 90), (\"Ticket doesn't exist \", 70)]\n"
          ]
        }
      ]
    },
    {
      "cell_type": "code",
      "source": [
        "with open('error_message.csv', 'w', newline='') as error_csv:\n",
        "    for key, value in error_sorted:\n",
        "        error_csv.write(str(key) + ',' + str(value) +'\\n')"
      ],
      "metadata": {
        "id": "xii5uiy0mo6I"
      },
      "execution_count": 261,
      "outputs": []
    },
    {
      "cell_type": "code",
      "source": [
        "error_file_name = \"error_message.csv\"\n",
        "error_file_data = uploaded[file_name].decode(\"utf-8\").split(\",\")\n",
        "with open(error_file_name) as file:\n",
        "  for line in file.readlines():\n",
        "    print(line)"
      ],
      "metadata": {
        "id": "xniBigMioHU0"
      },
      "execution_count": null,
      "outputs": []
    },
    {
      "cell_type": "code",
      "source": [
        ""
      ],
      "metadata": {
        "id": "JIO-jPVPowWs"
      },
      "execution_count": 264,
      "outputs": []
    }
  ]
}